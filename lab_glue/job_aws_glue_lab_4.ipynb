{
 "cells": [
  {
   "cell_type": "code",
   "execution_count": 1,
   "metadata": {
    "vscode": {
     "languageId": "python_glue_session"
    }
   },
   "outputs": [
    {
     "name": "stdout",
     "output_type": "stream",
     "text": [
      "Welcome to the Glue Interactive Sessions Kernel\n",
      "For more information on available magic commands, please type %help in any new cell.\n",
      "\n",
      "Please view our Getting Started page to access the most up-to-date information on the Interactive Sessions kernel: https://docs.aws.amazon.com/glue/latest/dg/interactive-sessions.html\n",
      "Installed kernel version: 0.37.0 \n",
      "Authenticating with environment variables and user-defined glue_role_arn: arn:aws:iam::792977523885:role/AWSGlueServiceRole-Lab4\n",
      "Trying to create a Glue session for the kernel.\n",
      "Worker Type: G.1X\n",
      "Number of Workers: 5\n",
      "Session ID: 55bbc716-e903-4f28-8948-77eb0c4865a9\n",
      "Job Type: glueetl\n",
      "Applying the following default arguments:\n",
      "--glue_kernel_version 0.37.0\n",
      "--enable-glue-datacatalog true\n",
      "Waiting for session 55bbc716-e903-4f28-8948-77eb0c4865a9 to get into ready status...\n",
      "Session 55bbc716-e903-4f28-8948-77eb0c4865a9 has been created.\n",
      "\n"
     ]
    }
   ],
   "source": [
    "import sys\n",
    "from awsglue.transforms import *\n",
    "from awsglue.utils import getResolvedOptions\n",
    "from pyspark.context import SparkContext\n",
    "from awsglue.context import GlueContext\n",
    "from awsglue.job import Job\n",
    "\n",
    "sc = SparkContext.getOrCreate()\n",
    "glueContext = GlueContext(sc)\n",
    "spark = glueContext.spark_session\n",
    "job = Job(glueContext)"
   ]
  },
  {
   "cell_type": "markdown",
   "metadata": {},
   "source": [
    "\n",
    "- Na célula a seguir, adicione o código necessário para ler o conteúdo do arquivo _nomes.csv_ para um dataframe Spark.\n",
    "\n"
   ]
  },
  {
   "cell_type": "code",
   "execution_count": 6,
   "metadata": {
    "vscode": {
     "languageId": "python_glue_session"
    }
   },
   "outputs": [
    {
     "name": "stdout",
     "output_type": "stream",
     "text": [
      "\n"
     ]
    }
   ],
   "source": [
    "df_nomes = spark.read.format(\"csv\") \\\n",
    "        .option(\"header\", True) \\\n",
    "        .option(\"delimiter\", ',') \\\n",
    "        .option(\"inferSchema\", True) \\\n",
    "        .load(\"s3://labxglue/nomes.csv\")"
   ]
  },
  {
   "cell_type": "markdown",
   "metadata": {},
   "source": [
    "- Imprima o esquema do dataframe"
   ]
  },
  {
   "cell_type": "code",
   "execution_count": 7,
   "metadata": {
    "vscode": {
     "languageId": "python_glue_session"
    }
   },
   "outputs": [
    {
     "name": "stdout",
     "output_type": "stream",
     "text": [
      "root\n",
      " |-- nome: string (nullable = true)\n",
      " |-- sexo: string (nullable = true)\n",
      " |-- total: integer (nullable = true)\n",
      " |-- ano: integer (nullable = true)\n",
      "\n",
      "+---------+----+-----+----+\n",
      "|     nome|sexo|total| ano|\n",
      "+---------+----+-----+----+\n",
      "| Jennifer|   F|54336|1983|\n",
      "|  Jessica|   F|45278|1983|\n",
      "|   Amanda|   F|33752|1983|\n",
      "|   Ashley|   F|33292|1983|\n",
      "|    Sarah|   F|27228|1983|\n",
      "|  Melissa|   F|23472|1983|\n",
      "|   Nicole|   F|22392|1983|\n",
      "|Stephanie|   F|22323|1983|\n",
      "|  Heather|   F|20749|1983|\n",
      "|Elizabeth|   F|19838|1983|\n",
      "|  Crystal|   F|17904|1983|\n",
      "|      Amy|   F|17095|1983|\n",
      "| Michelle|   F|16828|1983|\n",
      "|  Tiffany|   F|15960|1983|\n",
      "| Kimberly|   F|15374|1983|\n",
      "|Christina|   F|15359|1983|\n",
      "|    Amber|   F|14886|1983|\n",
      "|     Erin|   F|14835|1983|\n",
      "|  Rebecca|   F|14711|1983|\n",
      "|   Rachel|   F|14588|1983|\n",
      "+---------+----+-----+----+\n",
      "only showing top 20 rows\n"
     ]
    }
   ],
   "source": [
    "df_nomes.printSchema()\n",
    "df_nomes.show()"
   ]
  },
  {
   "cell_type": "markdown",
   "metadata": {},
   "source": [
    "- Na próxima célula, escreva o código necessário para alterar a caixa dos valores da coluna _nome_ para MAIÚSCULO"
   ]
  },
  {
   "cell_type": "code",
   "execution_count": 8,
   "metadata": {
    "vscode": {
     "languageId": "python_glue_session"
    }
   },
   "outputs": [
    {
     "name": "stdout",
     "output_type": "stream",
     "text": [
      "+---------+----+-----+----+\n",
      "|     nome|sexo|total| ano|\n",
      "+---------+----+-----+----+\n",
      "| JENNIFER|   F|54336|1983|\n",
      "|  JESSICA|   F|45278|1983|\n",
      "|   AMANDA|   F|33752|1983|\n",
      "|   ASHLEY|   F|33292|1983|\n",
      "|    SARAH|   F|27228|1983|\n",
      "|  MELISSA|   F|23472|1983|\n",
      "|   NICOLE|   F|22392|1983|\n",
      "|STEPHANIE|   F|22323|1983|\n",
      "|  HEATHER|   F|20749|1983|\n",
      "|ELIZABETH|   F|19838|1983|\n",
      "|  CRYSTAL|   F|17904|1983|\n",
      "|      AMY|   F|17095|1983|\n",
      "| MICHELLE|   F|16828|1983|\n",
      "|  TIFFANY|   F|15960|1983|\n",
      "| KIMBERLY|   F|15374|1983|\n",
      "|CHRISTINA|   F|15359|1983|\n",
      "|    AMBER|   F|14886|1983|\n",
      "|     ERIN|   F|14835|1983|\n",
      "|  REBECCA|   F|14711|1983|\n",
      "|   RACHEL|   F|14588|1983|\n",
      "+---------+----+-----+----+\n",
      "only showing top 20 rows\n"
     ]
    }
   ],
   "source": [
    "from pyspark.sql.functions import upper, col\n",
    "df_upper = df_nomes.withColumn('nome', upper(col('nome'))).show()"
   ]
  },
  {
   "cell_type": "markdown",
   "metadata": {},
   "source": [
    "- Apresente a contagem de linhas contidas no dataframe"
   ]
  },
  {
   "cell_type": "code",
   "execution_count": 12,
   "metadata": {
    "vscode": {
     "languageId": "python_glue_session"
    }
   },
   "outputs": [
    {
     "name": "stdout",
     "output_type": "stream",
     "text": [
      "1825433\n"
     ]
    }
   ],
   "source": [
    "df_nomes.count()"
   ]
  },
  {
   "cell_type": "markdown",
   "metadata": {},
   "source": [
    "- Agora, apresente a contagem de nomes, agrupando os dados do dataframe pelas colunas _ano_ e _sexo_. Ordene os dados de modo que o ano mais recente aparece como primeiro registro do dataframe."
   ]
  },
  {
   "cell_type": "code",
   "execution_count": 48,
   "metadata": {
    "vscode": {
     "languageId": "python_glue_session"
    }
   },
   "outputs": [
    {
     "name": "stdout",
     "output_type": "stream",
     "text": [
      "+----+----+-----+\n",
      "| ano|sexo|count|\n",
      "+----+----+-----+\n",
      "|2014|   F|19067|\n",
      "|2014|   M|13977|\n",
      "|2013|   F|19191|\n",
      "|2013|   M|14012|\n",
      "|2012|   F|19468|\n",
      "|2012|   M|14216|\n",
      "|2011|   F|19540|\n",
      "|2011|   M|14329|\n",
      "|2010|   M|14241|\n",
      "|2010|   F|19800|\n",
      "|2009|   M|14519|\n",
      "|2009|   F|20165|\n",
      "|2008|   F|20439|\n",
      "|2008|   M|14606|\n",
      "|2007|   M|14383|\n",
      "|2007|   F|20548|\n",
      "|2006|   M|14026|\n",
      "|2006|   F|20043|\n",
      "|2005|   F|19175|\n",
      "|2005|   M|13358|\n",
      "+----+----+-----+\n",
      "only showing top 20 rows\n"
     ]
    }
   ],
   "source": [
    "agrup_nomes = df_nomes.groupBy('ano', 'sexo').count().orderBy('ano', ascending=False) \n",
    "resultado = agrup_nomes.select('ano', 'sexo', 'count').show()\n",
    "\n"
   ]
  },
  {
   "cell_type": "markdown",
   "metadata": {},
   "source": [
    "- Qual foi o nome feminino com mais registro e em que ano?"
   ]
  },
  {
   "cell_type": "code",
   "execution_count": 79,
   "metadata": {
    "vscode": {
     "languageId": "python_glue_session"
    }
   },
   "outputs": [
    {
     "name": "stdout",
     "output_type": "stream",
     "text": [
      "Row(nome='Linda', ano=1947, total_nome=99680)\n"
     ]
    }
   ],
   "source": [
    "from pyspark.sql.functions import desc, sum\n",
    "nome_f = df_nomes.where(df_nomes.sexo == 'F')\n",
    "nome_c = nome_f.groupBy('nome', 'ano').agg(sum('total').alias('total_nome')).orderBy('total_nome', ascending=False)\n",
    "nome_max = nome_c.first()\n",
    "print(nome_max)\n",
    "\n"
   ]
  },
  {
   "cell_type": "markdown",
   "metadata": {},
   "source": [
    "- Qual foi o nome masculino com mais registro e em que ano?"
   ]
  },
  {
   "cell_type": "code",
   "execution_count": 80,
   "metadata": {
    "vscode": {
     "languageId": "python_glue_session"
    }
   },
   "outputs": [
    {
     "name": "stdout",
     "output_type": "stream",
     "text": [
      "Row(nome='James', ano=1947, total_nome=94755)\n"
     ]
    }
   ],
   "source": [
    "from pyspark.sql.functions import desc, sum\n",
    "nome_m = df_nomes.where(df_nomes.sexo == 'M')\n",
    "nome_c = nome_m.groupBy('nome', 'ano').agg(sum('total').alias('total_nome')).orderBy('total_nome', ascending=False)\n",
    "nome_max = nome_c.first()\n",
    "print(nome_max)"
   ]
  },
  {
   "cell_type": "markdown",
   "metadata": {},
   "source": [
    "- Apresente o total de registros (masculinos e femininos) para cada ano presente no dataframe. Considere apenas as primeiras 10 linhas, ordenadas pelo ano, de forma crescente."
   ]
  },
  {
   "cell_type": "code",
   "execution_count": 84,
   "metadata": {
    "vscode": {
     "languageId": "python_glue_session"
    }
   },
   "outputs": [
    {
     "name": "stdout",
     "output_type": "stream",
     "text": [
      "+----+----+---------+\n",
      "|sexo| ano|total_ano|\n",
      "+----+----+---------+\n",
      "|   M|1880|   110491|\n",
      "|   F|1880|    90993|\n",
      "|   F|1881|    91954|\n",
      "|   M|1881|   100745|\n",
      "|   M|1882|   113688|\n",
      "|   F|1882|   107850|\n",
      "|   M|1883|   104629|\n",
      "|   F|1883|   112321|\n",
      "|   M|1884|   114445|\n",
      "|   F|1884|   129022|\n",
      "+----+----+---------+\n"
     ]
    }
   ],
   "source": [
    "nome_c = df_nomes.groupBy('sexo', 'ano').agg(sum('total').alias('total_ano')).orderBy('ano', descending=False).limit(10)\n",
    "nome_max = nome_c.show()"
   ]
  },
  {
   "cell_type": "markdown",
   "metadata": {},
   "source": [
    "- Escreva o conteúdo do dataframe com os valores de nome em maiúsculo no S3. Atenção aos requisitos:\n",
    "  - A gravação deve ocorrer no subdiretório _frequencia_registro_nomes_eua_ do path s3://\\<BUCKET\\>/lab-glue/\n",
    "  - O formato deve ser JSON\n",
    "  - O particionamento deverá ser realizado pelas colunas _sexo_ e _ano_ (nesta ordem)"
   ]
  },
  {
   "cell_type": "code",
   "execution_count": 104,
   "metadata": {
    "vscode": {
     "languageId": "python_glue_session"
    }
   },
   "outputs": [
    {
     "name": "stdout",
     "output_type": "stream",
     "text": [
      "<awsglue.dynamicframe.DynamicFrame object at 0x7f03d6edba10>\n"
     ]
    }
   ],
   "source": [
    "import boto3\n",
    "import pandas as pd\n",
    "from awsglue.dynamicframe import DynamicFrame\n",
    "\n",
    "\n",
    "\n",
    "s3_client = boto3.client('s3')\n",
    "response = s3_client.get_object(Bucket=\"labxglue\",Key=\"nomes.csv\")\n",
    "file = pd.read_csv(response[\"Body\"])\n",
    "glue_context = GlueContext(SparkContext.getOrCreate())\n",
    "\n",
    "df_upper = df_nomes.withColumn('nome', upper(col('nome')))\n",
    "output_dir = f's3://aws-glue-assets-792977523885-us-east-1/'\n",
    "glue_context.write_dynamic_frame.from_options(\n",
    "    frame=DynamicFrame.fromDF(df_upper, glueContext, \"extracao_final\"),\n",
    "    connection_type=\"s3\",\n",
    "    connection_options={\n",
    "        \"path\": output_dir,\n",
    "        \"partitionKeys\": [\"sexo\", \"ano\"]\n",
    "    },\n",
    "    format=\"json\"\n",
    ")\n"
   ]
  },
  {
   "cell_type": "code",
   "execution_count": 105,
   "metadata": {
    "vscode": {
     "languageId": "python_glue_session"
    }
   },
   "outputs": [
    {
     "name": "stdout",
     "output_type": "stream",
     "text": [
      "\n"
     ]
    }
   ],
   "source": [
    "job.commit()"
   ]
  },
  {
   "cell_type": "code",
   "execution_count": null,
   "metadata": {},
   "outputs": [],
   "source": []
  }
 ],
 "metadata": {
  "kernelspec": {
   "display_name": "Python 3 (ipykernel)",
   "language": "python",
   "name": "python3"
  },
  "language_info": {
   "codemirror_mode": {
    "name": "ipython",
    "version": 3
   },
   "file_extension": ".py",
   "mimetype": "text/x-python",
   "name": "python",
   "nbconvert_exporter": "python",
   "pygments_lexer": "ipython3",
   "version": "3.10.6"
  },
  "toc-autonumbering": false,
  "toc-showcode": true,
  "toc-showmarkdowntxt": false,
  "toc-showtags": false
 },
 "nbformat": 4,
 "nbformat_minor": 4
}
